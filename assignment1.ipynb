{
  "nbformat": 4,
  "nbformat_minor": 0,
  "metadata": {
    "colab": {
      "provenance": [],
      "authorship_tag": "ABX9TyMt0SwHkisHUI7HsnnM431R",
      "include_colab_link": true
    },
    "kernelspec": {
      "name": "python3",
      "display_name": "Python 3"
    },
    "language_info": {
      "name": "python"
    }
  },
  "cells": [
    {
      "cell_type": "markdown",
      "metadata": {
        "id": "view-in-github",
        "colab_type": "text"
      },
      "source": [
        "<a href=\"https://colab.research.google.com/github/PVNgopal07/Machine-Learning/blob/main/assignment1.ipynb\" target=\"_parent\"><img src=\"https://colab.research.google.com/assets/colab-badge.svg\" alt=\"Open In Colab\"/></a>"
      ]
    },
    {
      "cell_type": "code",
      "source": [
        "import numpy as np"
      ],
      "metadata": {
        "id": "qgN6n03AcjrF"
      },
      "execution_count": null,
      "outputs": []
    },
    {
      "cell_type": "markdown",
      "source": [
        "#1. Perform arithmetic operations on NumPy arrays."
      ],
      "metadata": {
        "id": "aJ5p_ruuPujk"
      }
    },
    {
      "cell_type": "code",
      "source": [
        "a=np.array([1,2,3,4,5])\n",
        "b=np.array([6,7,8,9,10])\n",
        "print(\"Array 1 :\",a)\n",
        "print(\"Array 2 :\",b)\n",
        "print(\"Addition :\",a+b)\n",
        "print(\"Subtraction :\",a-b)\n",
        "print(\"Multiplication :\",a*b)\n",
        "print(\"Division :\",a/b)\n",
        "print(\"Floor Division :\",a//b)\n",
        "print(\"Remainder :\",a%b)"
      ],
      "metadata": {
        "id": "AsW-kVTxctiL",
        "colab": {
          "base_uri": "https://localhost:8080/"
        },
        "outputId": "ad8c0636-968b-497f-89ee-8caf6998e366"
      },
      "execution_count": null,
      "outputs": [
        {
          "output_type": "stream",
          "name": "stdout",
          "text": [
            "Array 1 : [1 2 3 4 5]\n",
            "Array 2 : [ 6  7  8  9 10]\n",
            "Addition : [ 7  9 11 13 15]\n",
            "Subtraction : [-5 -5 -5 -5 -5]\n",
            "Multiplication : [ 6 14 24 36 50]\n",
            "Division : [0.16666667 0.28571429 0.375      0.44444444 0.5       ]\n",
            "Floor Division : [0 0 0 0 0]\n",
            "Remainder : [1 2 3 4 5]\n"
          ]
        }
      ]
    },
    {
      "cell_type": "markdown",
      "source": [
        "#2. Write a script to compute the mean and standard deviation of a NumPy array."
      ],
      "metadata": {
        "id": "GRcJKubSP5sl"
      }
    },
    {
      "cell_type": "code",
      "source": [
        "c=np.array([1,2,3,4,5])\n",
        "print(\"The given Array is :\",c)\n",
        "c1=np.mean(c)\n",
        "print(\"Mean :\",c1)\n",
        "c2=np.std(c)\n",
        "print(\"Standard Deviation :\",c2)"
      ],
      "metadata": {
        "id": "-sijbO2UQJbC",
        "colab": {
          "base_uri": "https://localhost:8080/"
        },
        "outputId": "6ed254f2-72dc-493f-ea02-068ae49e231b"
      },
      "execution_count": null,
      "outputs": [
        {
          "output_type": "stream",
          "name": "stdout",
          "text": [
            "The given Array is : [1 2 3 4 5]\n",
            "Mean : 3.0\n",
            "Standard Deviation : 1.4142135623730951\n"
          ]
        }
      ]
    },
    {
      "cell_type": "markdown",
      "source": [
        "#3. Create a NumPy array of integers from 10 to 50 with a step size of 5."
      ],
      "metadata": {
        "id": "HtcRX_c9QJ7C"
      }
    },
    {
      "cell_type": "code",
      "source": [
        "d=np.array(range(10,50,5))\n",
        "print(d)"
      ],
      "metadata": {
        "id": "EjVsQhsPQTZD",
        "colab": {
          "base_uri": "https://localhost:8080/"
        },
        "outputId": "99569e0f-7789-4bed-9bf9-b52fbaf9aef2"
      },
      "execution_count": null,
      "outputs": [
        {
          "output_type": "stream",
          "name": "stdout",
          "text": [
            "[10 15 20 25 30 35 40 45]\n"
          ]
        }
      ]
    },
    {
      "cell_type": "markdown",
      "source": [
        "#4. Reshape the array into a 2x4 matrix."
      ],
      "metadata": {
        "id": "ZHtPTo3NQtC6"
      }
    },
    {
      "cell_type": "code",
      "source": [
        "d1=np.array([1,2,3,4,5,6,7,8])\n",
        "print(\"Array befor :\",d1)\n",
        "d2=d1.reshape(2,4)\n",
        "print(\"Array after reshaping :\\n\",d2)"
      ],
      "metadata": {
        "id": "t3gBaZedQycc",
        "colab": {
          "base_uri": "https://localhost:8080/"
        },
        "outputId": "fcdbfae2-ce82-439d-eb67-c287ed1ca387"
      },
      "execution_count": null,
      "outputs": [
        {
          "output_type": "stream",
          "name": "stdout",
          "text": [
            "Array befor : [1 2 3 4 5 6 7 8]\n",
            "Array after reshaping :\n",
            " [[1 2 3 4]\n",
            " [5 6 7 8]]\n"
          ]
        }
      ]
    },
    {
      "cell_type": "markdown",
      "source": [
        "##5. Given the array arr = np.array([[1, 2, 3], [4, 5, 6], [7, 8, 9]]):"
      ],
      "metadata": {
        "id": "1NTeD_CdQzO6"
      }
    },
    {
      "cell_type": "code",
      "source": [
        "arr=np.array([[1,2,3],[4,5,6],[7,8,9]])"
      ],
      "metadata": {
        "id": "NQRf5JjvQ8vs"
      },
      "execution_count": null,
      "outputs": []
    },
    {
      "cell_type": "markdown",
      "source": [
        "#a) Extract the sub-matrix containing the last two rows and first two columns."
      ],
      "metadata": {
        "id": "XdM60h27gHlI"
      }
    },
    {
      "cell_type": "code",
      "source": [
        "print(\"Matrix :\\n\", arr)\n",
        "arr1=arr[1:3,0:2]\n",
        "print(\"Sub-Matrix :\\n\", arr1)"
      ],
      "metadata": {
        "colab": {
          "base_uri": "https://localhost:8080/"
        },
        "id": "4d0zzPUmgaBI",
        "outputId": "e78024ef-468b-4aca-988a-b276b23b8638"
      },
      "execution_count": null,
      "outputs": [
        {
          "output_type": "stream",
          "name": "stdout",
          "text": [
            "Matrix :\n",
            " [[1 2 3]\n",
            " [4 5 6]\n",
            " [7 8 9]]\n",
            "Sub-Matrix :\n",
            " [[4 5]\n",
            " [7 8]]\n"
          ]
        }
      ]
    },
    {
      "cell_type": "markdown",
      "source": [
        "#b) Replace all elements greater than 4 with 0."
      ],
      "metadata": {
        "id": "GbOIa95Vgc5V"
      }
    },
    {
      "cell_type": "code",
      "source": [
        "print(\"Matrix :\\n\", arr)\n",
        "arr[arr>4]=0\n",
        "print(\"After Replacing :\\n\", arr)"
      ],
      "metadata": {
        "colab": {
          "base_uri": "https://localhost:8080/"
        },
        "id": "ZNjvF5Rji_zz",
        "outputId": "013055f5-778e-4990-d5e2-59b92174963f"
      },
      "execution_count": null,
      "outputs": [
        {
          "output_type": "stream",
          "name": "stdout",
          "text": [
            "Matrix :\n",
            " [[1 2 3]\n",
            " [4 5 6]\n",
            " [7 8 9]]\n",
            "After Replacing :\n",
            " [[1 2 3]\n",
            " [4 0 0]\n",
            " [0 0 0]]\n"
          ]
        }
      ]
    },
    {
      "cell_type": "markdown",
      "source": [
        "##6. Create two 1D arrays:\n",
        "• a = np.array([1, 2, 3])\n",
        "\n",
        "• b = np.array([4, 5, 6])"
      ],
      "metadata": {
        "id": "67qW_D79RFqL"
      }
    },
    {
      "cell_type": "code",
      "source": [
        " a = np.array([1, 2, 3])\n",
        " b = np.array([4, 5, 6])\n",
        " print(\"Array 1 :\",a)\n",
        " print(\"Array 2 :\",b)"
      ],
      "metadata": {
        "id": "CHX6Om3oTNh4",
        "colab": {
          "base_uri": "https://localhost:8080/"
        },
        "outputId": "b1717821-a5c2-4a9c-8b1b-328c07b39826"
      },
      "execution_count": null,
      "outputs": [
        {
          "output_type": "stream",
          "name": "stdout",
          "text": [
            "Array 1 : [1 2 3]\n",
            "Array 2 : [4 5 6]\n"
          ]
        }
      ]
    },
    {
      "cell_type": "markdown",
      "source": [
        "#• Perform element-wise addition, multiplication, and division."
      ],
      "metadata": {
        "id": "C6JxbJXtjZ2F"
      }
    },
    {
      "cell_type": "code",
      "source": [
        "n1=np.add(a,b)\n",
        "print(\"Addition :\",n1)\n",
        "n2=np.multiply(a,b)\n",
        "print(\"Multiplication :\",n2)\n",
        "n3=np.divide(a,b)\n",
        "print(\"Division :\",n3)"
      ],
      "metadata": {
        "colab": {
          "base_uri": "https://localhost:8080/"
        },
        "id": "o8bkDVYJjdEN",
        "outputId": "5c89676d-dd91-4646-e9dc-1d0271c82295"
      },
      "execution_count": null,
      "outputs": [
        {
          "output_type": "stream",
          "name": "stdout",
          "text": [
            "Addition : [5 7 9]\n",
            "Multiplication : [ 4 10 18]\n",
            "Division : [0.25 0.4  0.5 ]\n"
          ]
        }
      ]
    },
    {
      "cell_type": "markdown",
      "source": [
        "##7. Create a random NumPy array of size (4, 4)."
      ],
      "metadata": {
        "id": "aoLrxuOFRm1I"
      }
    },
    {
      "cell_type": "code",
      "source": [
        "d4=np.random.random((4,4))\n",
        "print(d4)"
      ],
      "metadata": {
        "id": "7XVvO7PRTMmT",
        "colab": {
          "base_uri": "https://localhost:8080/"
        },
        "outputId": "3ec6b284-2d13-49e4-9d50-71e8a02dfe14"
      },
      "execution_count": null,
      "outputs": [
        {
          "output_type": "stream",
          "name": "stdout",
          "text": [
            "[[0.52693921 0.87119807 0.62455194 0.71731497]\n",
            " [0.88343032 0.14840963 0.47673656 0.51460817]\n",
            " [0.00668967 0.36732285 0.03297338 0.86502133]\n",
            " [0.54302544 0.25104828 0.56442377 0.78877756]]\n"
          ]
        }
      ]
    },
    {
      "cell_type": "markdown",
      "source": [
        "#a) Mean of each column."
      ],
      "metadata": {
        "id": "KKY6wK4dkTe1"
      }
    },
    {
      "cell_type": "code",
      "source": [
        "print(\"Matrix :\\n\", d4)\n",
        "d5=np.mean(d4,axis=0)\n",
        "print(\"Mean of each column :\",d5)"
      ],
      "metadata": {
        "colab": {
          "base_uri": "https://localhost:8080/"
        },
        "id": "oT2_yPP7kVF2",
        "outputId": "1945202b-d645-4a0c-9470-23e91b1f6c31"
      },
      "execution_count": null,
      "outputs": [
        {
          "output_type": "stream",
          "name": "stdout",
          "text": [
            "Matrix :\n",
            " [[0.52693921 0.87119807 0.62455194 0.71731497]\n",
            " [0.88343032 0.14840963 0.47673656 0.51460817]\n",
            " [0.00668967 0.36732285 0.03297338 0.86502133]\n",
            " [0.54302544 0.25104828 0.56442377 0.78877756]]\n",
            "Mean of each column : [0.49002116 0.40949471 0.42467141 0.72143051]\n"
          ]
        }
      ]
    },
    {
      "cell_type": "markdown",
      "source": [
        "#a) Maximum value of the entire array."
      ],
      "metadata": {
        "id": "n7O2nOQVkZH-"
      }
    },
    {
      "cell_type": "code",
      "source": [
        "print(\"Matrix :\\n\", d4)\n",
        "d6=np.max(d4)\n",
        "print(\"Maximum value of the entire array :\",d6)"
      ],
      "metadata": {
        "colab": {
          "base_uri": "https://localhost:8080/"
        },
        "id": "uCfd-7nSkdZz",
        "outputId": "58f1b42f-fcb3-4fed-c664-3d8adacd125a"
      },
      "execution_count": null,
      "outputs": [
        {
          "output_type": "stream",
          "name": "stdout",
          "text": [
            "Matrix :\n",
            " [[0.52693921 0.87119807 0.62455194 0.71731497]\n",
            " [0.88343032 0.14840963 0.47673656 0.51460817]\n",
            " [0.00668967 0.36732285 0.03297338 0.86502133]\n",
            " [0.54302544 0.25104828 0.56442377 0.78877756]]\n",
            "Maximum value of the entire array : 0.8834303208389713\n"
          ]
        }
      ]
    },
    {
      "cell_type": "markdown",
      "source": [
        "#b) Sum of all elements."
      ],
      "metadata": {
        "id": "vRfaWBlckd5X"
      }
    },
    {
      "cell_type": "code",
      "source": [
        "print(\"Matrix :\\n\", d4)\n",
        "d7=np.sum(d4)\n",
        "print(\"Sum of all elements :\",d7)"
      ],
      "metadata": {
        "colab": {
          "base_uri": "https://localhost:8080/"
        },
        "id": "7GZ8rc-ZklIs",
        "outputId": "20aeae93-3028-4af6-c8e2-646bf2d632f0"
      },
      "execution_count": null,
      "outputs": [
        {
          "output_type": "stream",
          "name": "stdout",
          "text": [
            "Matrix :\n",
            " [[0.52693921 0.87119807 0.62455194 0.71731497]\n",
            " [0.88343032 0.14840963 0.47673656 0.51460817]\n",
            " [0.00668967 0.36732285 0.03297338 0.86502133]\n",
            " [0.54302544 0.25104828 0.56442377 0.78877756]]\n",
            "Sum of all elements : 8.182471147345886\n"
          ]
        }
      ]
    },
    {
      "cell_type": "markdown",
      "source": [
        "#8. Given the array arr = np.array([1, 2, 3, 4]), add 10 to each element and multiply the result by 2.\n"
      ],
      "metadata": {
        "id": "zs4ZvYKQR8vq"
      }
    },
    {
      "cell_type": "code",
      "source": [
        "arr = np.array([1, 2, 3, 4])\n",
        "print(\"Array :\",arr)\n",
        "arr1=(arr+10)*2\n",
        "print(\"After adding 10 to each element and multiplied the result by 2. :\",arr1)"
      ],
      "metadata": {
        "id": "GxgnJqhFRmFN",
        "colab": {
          "base_uri": "https://localhost:8080/"
        },
        "outputId": "7ff357a4-7125-40c9-b408-05e4443ef2cb"
      },
      "execution_count": null,
      "outputs": [
        {
          "output_type": "stream",
          "name": "stdout",
          "text": [
            "Array : [1 2 3 4]\n",
            "After adding 10 to each element and multiplied the result by 2. : [22 24 26 28]\n"
          ]
        }
      ]
    },
    {
      "cell_type": "markdown",
      "source": [
        "##9.Perform advanced slicing and indexing on a 3D array.\n",
        "Create a 3D NumPy array arr of shape (3, 4, 5) with random integers ranging from 1 to 100."
      ],
      "metadata": {
        "id": "gfE8TyuUSIdv"
      }
    },
    {
      "cell_type": "code",
      "source": [
        "arr=np.random.randint(1,100,(3,4,5))\n",
        "print(arr)"
      ],
      "metadata": {
        "id": "zeewjA4ISH7i",
        "colab": {
          "base_uri": "https://localhost:8080/"
        },
        "outputId": "2e2ed340-b3df-4b92-8c5d-39ce66463572"
      },
      "execution_count": null,
      "outputs": [
        {
          "output_type": "stream",
          "name": "stdout",
          "text": [
            "[[[80 20 24 43  3]\n",
            "  [99 21 33 39 43]\n",
            "  [ 2 51 24 22 67]\n",
            "  [50 47 72 90 86]]\n",
            "\n",
            " [[53 58 94 97 97]\n",
            "  [55 90 22 93  4]\n",
            "  [79 25 79  1 53]\n",
            "  [36 75 26 86 60]]\n",
            "\n",
            " [[47 57 19 91  2]\n",
            "  [41 68 46 91 23]\n",
            "  [84 39  8  4 91]\n",
            "  [29 50 77 60 47]]]\n"
          ]
        }
      ]
    },
    {
      "cell_type": "markdown",
      "source": [
        "#a) Extract the second \"layer\" (i.e., the second 2D array) in the first dimension."
      ],
      "metadata": {
        "id": "D6dFWGrWmQyz"
      }
    },
    {
      "cell_type": "code",
      "source": [
        "print(\"Matrix :\\n\", arr)\n",
        "arr1=arr[1]\n",
        "print(\"Second layer :\\n\", arr1)"
      ],
      "metadata": {
        "colab": {
          "base_uri": "https://localhost:8080/"
        },
        "id": "1vxziiSEmRg0",
        "outputId": "442b7c64-c2f7-4850-c8c5-c29db7613d17"
      },
      "execution_count": null,
      "outputs": [
        {
          "output_type": "stream",
          "name": "stdout",
          "text": [
            "Matrix :\n",
            " [[[80 20 24 43  3]\n",
            "  [99 21 33 39 43]\n",
            "  [ 2 51 24 22 67]\n",
            "  [50 47 72 90 86]]\n",
            "\n",
            " [[53 58 94 97 97]\n",
            "  [55 90 22 93  4]\n",
            "  [79 25 79  1 53]\n",
            "  [36 75 26 86 60]]\n",
            "\n",
            " [[47 57 19 91  2]\n",
            "  [41 68 46 91 23]\n",
            "  [84 39  8  4 91]\n",
            "  [29 50 77 60 47]]]\n",
            "Second layer :\n",
            " [[53 58 94 97 97]\n",
            " [55 90 22 93  4]\n",
            " [79 25 79  1 53]\n",
            " [36 75 26 86 60]]\n"
          ]
        }
      ]
    },
    {
      "cell_type": "markdown",
      "source": [
        "#b) Extract the first two rows and the last three columns from each \"layer.\""
      ],
      "metadata": {
        "id": "jSbJwRq8mR82"
      }
    },
    {
      "cell_type": "code",
      "source": [
        "print(\"Matrix :\\n\", arr)\n",
        "arr2=arr[:,:2,2:]\n",
        "print(\"After exracting the first two rows and last three columns from each layer :\\n\", arr2)"
      ],
      "metadata": {
        "colab": {
          "base_uri": "https://localhost:8080/"
        },
        "id": "-J8aMKDdmSze",
        "outputId": "62ab437c-fc85-46cb-e373-c8c239d9c93b"
      },
      "execution_count": null,
      "outputs": [
        {
          "output_type": "stream",
          "name": "stdout",
          "text": [
            "Matrix :\n",
            " [[[80 20 24 43  3]\n",
            "  [99 21 33 39 43]\n",
            "  [ 2 51 24 22 67]\n",
            "  [50 47 72 90 86]]\n",
            "\n",
            " [[53 58 94 97 97]\n",
            "  [55 90 22 93  4]\n",
            "  [79 25 79  1 53]\n",
            "  [36 75 26 86 60]]\n",
            "\n",
            " [[47 57 19 91  2]\n",
            "  [41 68 46 91 23]\n",
            "  [84 39  8  4 91]\n",
            "  [29 50 77 60 47]]]\n",
            "After exracting the first two rows and last three columns from each layer :\n",
            " [[[24 43  3]\n",
            "  [33 39 43]]\n",
            "\n",
            " [[94 97 97]\n",
            "  [22 93  4]]\n",
            "\n",
            " [[19 91  2]\n",
            "  [46 91 23]]]\n"
          ]
        }
      ]
    },
    {
      "cell_type": "markdown",
      "source": [
        "#c) Replace all elements divisible by 3 with -1."
      ],
      "metadata": {
        "id": "C7nh0Ai1mTev"
      }
    },
    {
      "cell_type": "code",
      "source": [
        "arr1=np.random.randint(1,100,(3,4,5))\n",
        "print(\"Matrix :\\n\", arr1)\n",
        "arr1[arr1%3==0]=-1\n",
        "print(\"After replacing all elements divisible by 3 with -1 :\\n\", arr1)"
      ],
      "metadata": {
        "colab": {
          "base_uri": "https://localhost:8080/"
        },
        "id": "9nIu1p1zmUlW",
        "outputId": "c6ca963c-9008-4335-9396-4c24aaeb8c12"
      },
      "execution_count": null,
      "outputs": [
        {
          "output_type": "stream",
          "name": "stdout",
          "text": [
            "Matrix :\n",
            " [[[42  1 57 88 41]\n",
            "  [84 65 42 97 56]\n",
            "  [64 69 94 44 27]\n",
            "  [45 27 53 98 51]]\n",
            "\n",
            " [[63 59 68 68 29]\n",
            "  [ 4 96 34 75 80]\n",
            "  [99 17 29 40 84]\n",
            "  [ 6 45 53 74 24]]\n",
            "\n",
            " [[71  2 47  8 32]\n",
            "  [ 3 12 55 49 83]\n",
            "  [ 8 27 77 83 85]\n",
            "  [73 42 75 16 14]]]\n",
            "After replacing all elements divisible by 3 with -1 :\n",
            " [[[-1  1 -1 88 41]\n",
            "  [-1 65 -1 97 56]\n",
            "  [64 -1 94 44 -1]\n",
            "  [-1 -1 53 98 -1]]\n",
            "\n",
            " [[-1 59 68 68 29]\n",
            "  [ 4 -1 34 -1 80]\n",
            "  [-1 17 29 40 -1]\n",
            "  [-1 -1 53 74 -1]]\n",
            "\n",
            " [[71  2 47  8 32]\n",
            "  [-1 -1 55 49 83]\n",
            "  [ 8 -1 77 83 85]\n",
            "  [73 -1 -1 16 14]]]\n"
          ]
        }
      ]
    },
    {
      "cell_type": "markdown",
      "source": [
        "##10. Work with broadcasting and advanced operations in NumPy.\n",
        "\n",
        "Create a NumPy array arr of shape (3, 3) with random integers between 1 and 20.\n",
        "Perform the following:"
      ],
      "metadata": {
        "id": "P8B1K74ASXRK"
      }
    },
    {
      "cell_type": "code",
      "source": [
        "\n",
        "arr = np.random.randint(1, 21,size=(3, 3))\n",
        "print(arr)"
      ],
      "metadata": {
        "id": "J1mWjvXBSWbx",
        "colab": {
          "base_uri": "https://localhost:8080/"
        },
        "outputId": "ea44bc24-0fbe-4f0f-ae1a-c0ecdda32df9"
      },
      "execution_count": null,
      "outputs": [
        {
          "output_type": "stream",
          "name": "stdout",
          "text": [
            "[[ 2  5 19]\n",
            " [12  2  6]\n",
            " [10 11 15]]\n"
          ]
        }
      ]
    },
    {
      "cell_type": "markdown",
      "source": [
        "#a) Subtract the mean of each row from its respective elements (row-wise normalization)."
      ],
      "metadata": {
        "id": "zDb56sNAodyc"
      }
    },
    {
      "cell_type": "code",
      "source": [
        "print(\"Matrix :\\n\", arr)\n",
        "arr1=arr-arr.mean(axis=1,keepdims=True)\n",
        "print(\"After subtracting the mean of each row from its respective elements :\\n\", arr1)"
      ],
      "metadata": {
        "colab": {
          "base_uri": "https://localhost:8080/"
        },
        "id": "yleuX_lpA9nx",
        "outputId": "4dbe86ef-2223-4a6f-e3bd-8dc357c238cf"
      },
      "execution_count": null,
      "outputs": [
        {
          "output_type": "stream",
          "name": "stdout",
          "text": [
            "Matrix :\n",
            " [[ 2  5 19]\n",
            " [12  2  6]\n",
            " [10 11 15]]\n",
            "After subtracting the mean of each row from its respective elements :\n",
            " [[-6.66666667 -3.66666667 10.33333333]\n",
            " [ 5.33333333 -4.66666667 -0.66666667]\n",
            " [-2.         -1.          3.        ]]\n"
          ]
        }
      ]
    },
    {
      "cell_type": "markdown",
      "source": [
        "#b) Create a new array by squaring all the elements in arr."
      ],
      "metadata": {
        "id": "j84OnqWuoe1Q"
      }
    },
    {
      "cell_type": "code",
      "source": [
        "print(\"Matrix :\\n\", arr)\n",
        "arr2=np.square(arr)\n",
        "print(\"After squaring all the elements in arr :\\n\", arr2)"
      ],
      "metadata": {
        "id": "-jVmPOY1ofog",
        "colab": {
          "base_uri": "https://localhost:8080/"
        },
        "outputId": "7508418f-cb2b-49f4-f9a8-19e986d5c673"
      },
      "execution_count": null,
      "outputs": [
        {
          "output_type": "stream",
          "name": "stdout",
          "text": [
            "Matrix :\n",
            " [[ 2  5 19]\n",
            " [12  2  6]\n",
            " [10 11 15]]\n",
            "After squaring all the elements in arr :\n",
            " [[  4  25 361]\n",
            " [144   4  36]\n",
            " [100 121 225]]\n"
          ]
        }
      ]
    },
    {
      "cell_type": "markdown",
      "source": [
        "#c) Find the indices of the top 3 maximum values in the entire array."
      ],
      "metadata": {
        "id": "XYxy1qJUogL7"
      }
    },
    {
      "cell_type": "code",
      "source": [
        "flat_arr1 = arr1.flatten()\n",
        "top_3_indices = np.argpartition(flat_arr1, -3)[-3:]\n",
        "row_indices, col_indices = np.unravel_index(top_3_indices, arr1.shape)\n",
        "print(\"Indices of top 3 maximum values:\")\n",
        "for i in range(3):\n",
        "    print(f\"Value: {arr1[row_indices[i]][col_indices[i]]}, Index: ({row_indices[i]}, {col_indices[i]})\")"
      ],
      "metadata": {
        "id": "7rjTK3hxog_Q",
        "colab": {
          "base_uri": "https://localhost:8080/"
        },
        "outputId": "30b2b4a4-1156-448c-fd41-a6bd2b41d7a8"
      },
      "execution_count": null,
      "outputs": [
        {
          "output_type": "stream",
          "name": "stdout",
          "text": [
            "Indices of top 3 maximum values:\n",
            "Value: 16, Index: (0, 0)\n",
            "Value: 20, Index: (2, 1)\n",
            "Value: 20, Index: (0, 1)\n"
          ]
        }
      ]
    }
  ]
}