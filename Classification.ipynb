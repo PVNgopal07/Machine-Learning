{
  "nbformat": 4,
  "nbformat_minor": 0,
  "metadata": {
    "colab": {
      "provenance": [],
      "authorship_tag": "ABX9TyOZzex7+4kI+EIBW4/yRg4z",
      "include_colab_link": true
    },
    "kernelspec": {
      "name": "python3",
      "display_name": "Python 3"
    },
    "language_info": {
      "name": "python"
    }
  },
  "cells": [
    {
      "cell_type": "markdown",
      "metadata": {
        "id": "view-in-github",
        "colab_type": "text"
      },
      "source": [
        "<a href=\"https://colab.research.google.com/github/PVNgopal07/Machine-Learning/blob/main/Classification.ipynb\" target=\"_parent\"><img src=\"https://colab.research.google.com/assets/colab-badge.svg\" alt=\"Open In Colab\"/></a>"
      ]
    },
    {
      "cell_type": "markdown",
      "source": [
        "#**Classification Model**"
      ],
      "metadata": {
        "id": "FQBk6yDfAwCx"
      }
    },
    {
      "cell_type": "markdown",
      "source": [
        "##1. Build the following Classification models by picking a suitable dataset. Before training, analyze the data and preprocess it.\n",
        "\n",
        "\n",
        "*   Logistic Regression model\n",
        "*   Naïve Bayes model\n",
        "*   KNN Model\n",
        "*   Decision Tree\n",
        "*   Support Vector Classifier\n",
        "\n",
        "  Report Accuracy, Precision, Recall, F1-Score on test data for all the above models."
      ],
      "metadata": {
        "id": "Vd5SNHbVkrYu"
      }
    },
    {
      "cell_type": "code",
      "execution_count": 10,
      "metadata": {
        "id": "ovYSGsoFbH-J"
      },
      "outputs": [],
      "source": [
        "import pandas as pd\n",
        "import numpy as np\n",
        "import matplotlib.pyplot as plt\n",
        "import seaborn as sns\n",
        "from sklearn.model_selection import train_test_split\n",
        "\n",
        "from sklearn.linear_model import LogisticRegression\n",
        "\n",
        "from sklearn.naive_bayes import GaussianNB\n",
        "\n",
        "from sklearn.neighbors import KNeighborsClassifier\n",
        "\n",
        "from sklearn. tree import DecisionTreeClassifier\n",
        "\n",
        "from sklearn.svm import SVC\n",
        "\n",
        "from sklearn.metrics import accuracy_score, precision_score, recall_score, f1_score\n",
        "\n",
        "from sklearn.preprocessing import StandardScaler\n"
      ]
    },
    {
      "cell_type": "markdown",
      "source": [
        "#Preprocessing the Data"
      ],
      "metadata": {
        "id": "zSgBW-1vykeq"
      }
    },
    {
      "cell_type": "markdown",
      "source": [
        "Loading the dataset"
      ],
      "metadata": {
        "id": "HEo9PooVCEn4"
      }
    },
    {
      "cell_type": "code",
      "source": [
        "# Load the dataset\n",
        "data = pd.read_csv(\"Admission.csv\")\n",
        "data = pd.DataFrame(data)"
      ],
      "metadata": {
        "id": "6mdMijdUCJbk"
      },
      "execution_count": 59,
      "outputs": []
    },
    {
      "cell_type": "markdown",
      "source": [
        "Dropping irrelevant columns"
      ],
      "metadata": {
        "id": "RZnsUKJZCKp4"
      }
    },
    {
      "cell_type": "code",
      "source": [
        "# Drop irrelevant columns\n",
        "data = data.drop(columns=[\"Serial No.\"])"
      ],
      "metadata": {
        "id": "dBWs2Oy9CSWc"
      },
      "execution_count": 60,
      "outputs": []
    },
    {
      "cell_type": "markdown",
      "source": [
        "Converting the target variable into binary classification"
      ],
      "metadata": {
        "id": "lQanki4xCV6m"
      }
    },
    {
      "cell_type": "code",
      "source": [
        "# Target variable into binary classification\n",
        "data[\"Admit\"] = (data[\"Chance of Admit \"] >= 0.75).astype(int)\n",
        "data = data.drop(columns=[\"Chance of Admit \"])\n"
      ],
      "metadata": {
        "id": "RDIStVm6Ce0r"
      },
      "execution_count": 61,
      "outputs": []
    },
    {
      "cell_type": "markdown",
      "source": [
        "Separating X and Y values"
      ],
      "metadata": {
        "id": "aMmqAiD5Cos8"
      }
    },
    {
      "cell_type": "code",
      "source": [
        "X = data.drop(columns=[\"Admit\"]).values\n",
        "y = data[\"Admit\"].values"
      ],
      "metadata": {
        "id": "i1RJ0ZlpCtuD"
      },
      "execution_count": 62,
      "outputs": []
    },
    {
      "cell_type": "markdown",
      "source": [
        "Splitting the data into training and testing sets"
      ],
      "metadata": {
        "id": "qaUGezLrCyqW"
      }
    },
    {
      "cell_type": "code",
      "source": [
        "# Split the data into training and testing sets\n",
        "X_train, X_test, y_train, y_test = train_test_split(X, y, test_size=0.2, random_state=42, stratify=y)"
      ],
      "metadata": {
        "id": "iXY0kZrAC5HU"
      },
      "execution_count": 63,
      "outputs": []
    },
    {
      "cell_type": "markdown",
      "source": [
        "Scaling the X values"
      ],
      "metadata": {
        "id": "1qVNfcbDC-nj"
      }
    },
    {
      "cell_type": "code",
      "source": [
        "scaler = StandardScaler()\n",
        "X_train_scaled = scaler.fit_transform(X_train)\n",
        "X_test_scaled = scaler.transform(X_test)"
      ],
      "metadata": {
        "id": "uBqMtc6MC99f"
      },
      "execution_count": 64,
      "outputs": []
    },
    {
      "cell_type": "markdown",
      "source": [
        "#Logistic Regression"
      ],
      "metadata": {
        "id": "NA1tItCsysIF"
      }
    },
    {
      "cell_type": "code",
      "source": [
        "from sklearn.linear_model import LogisticRegression\n",
        "from sklearn.metrics import accuracy_score, precision_score, recall_score, f1_score\n",
        "\n",
        "lr = LogisticRegression(random_state=42)\n",
        "lr.fit(X_train_scaled, y_train)\n",
        "y_pred_lr = lr.predict(X_test_scaled)\n",
        "\n",
        "# Metrics\n",
        "accuracy = accuracy_score(y_test, y_pred_lr)\n",
        "precision = precision_score(y_test, y_pred_lr)\n",
        "recall = recall_score(y_test, y_pred_lr)\n",
        "f1 = f1_score(y_test, y_pred_lr)\n",
        "\n",
        "print(\"Logistic Regression: \\n\")\n",
        "print(f\" Accuracy:{accuracy:.4f},\\n Precision: {precision:.4f},\\n Recall: {recall:.4f},\\n F1-Score: {f1:.4f}\")"
      ],
      "metadata": {
        "colab": {
          "base_uri": "https://localhost:8080/"
        },
        "id": "RIhXfVugyvzX",
        "outputId": "ef6a6b7c-fdc5-4c5a-ab1f-b9c202d2da39"
      },
      "execution_count": 65,
      "outputs": [
        {
          "output_type": "stream",
          "name": "stdout",
          "text": [
            "Logistic Regression: \n",
            "\n",
            " Accuracy:0.8625,\n",
            " Precision: 0.8788,\n",
            " Recall: 0.8056,\n",
            " F1-Score: 0.8406\n"
          ]
        }
      ]
    },
    {
      "cell_type": "markdown",
      "source": [
        "#Naive Bayes"
      ],
      "metadata": {
        "id": "r907MGFrz2pQ"
      }
    },
    {
      "cell_type": "code",
      "source": [
        "from sklearn.naive_bayes import GaussianNB\n",
        "\n",
        "nb = GaussianNB()\n",
        "nb.fit(X_train_scaled, y_train)\n",
        "y_pred_nb = nb.predict(X_test_scaled)\n",
        "\n",
        "# Metrics\n",
        "accuracy = accuracy_score(y_test, y_pred_nb)\n",
        "precision = precision_score(y_test, y_pred_nb)\n",
        "recall = recall_score(y_test, y_pred_nb)\n",
        "f1 = f1_score(y_test, y_pred_nb)\n",
        "\n",
        "print(\"Naive Bayes: \\n\")\n",
        "print(f\" Accuracy: {accuracy:.4f},\\n Precision: {precision:.4f},\\n Recall: {recall:.4f},\\n F1-Score: {f1:.4f}\")"
      ],
      "metadata": {
        "colab": {
          "base_uri": "https://localhost:8080/"
        },
        "id": "VyjtkMwpz4xK",
        "outputId": "2f4b289f-fb3b-4a7e-a80d-dbb47697d3b7"
      },
      "execution_count": 66,
      "outputs": [
        {
          "output_type": "stream",
          "name": "stdout",
          "text": [
            "Naive Bayes: \n",
            "\n",
            " Accuracy: 0.8875,\n",
            " Precision: 0.9091,\n",
            " Recall: 0.8333,\n",
            " F1-Score: 0.8696\n"
          ]
        }
      ]
    },
    {
      "cell_type": "markdown",
      "source": [
        "#K-NearestNeighbors"
      ],
      "metadata": {
        "id": "p3QwK8yn0Vp1"
      }
    },
    {
      "cell_type": "code",
      "source": [
        "from sklearn.neighbors import KNeighborsClassifier\n",
        "\n",
        "knn = KNeighborsClassifier()\n",
        "knn.fit(X_train_scaled, y_train)\n",
        "y_pred_knn = knn.predict(X_test_scaled)\n",
        "\n",
        "# Metrics\n",
        "accuracy = accuracy_score(y_test, y_pred_knn)\n",
        "precision = precision_score(y_test, y_pred_knn)\n",
        "recall = recall_score(y_test, y_pred_knn)\n",
        "f1 = f1_score(y_test, y_pred_knn)\n",
        "\n",
        "print(\"K-NearestNeighbors: \\n\")\n",
        "print(f\" Accuracy: {accuracy:.4f},\\n Precision: {precision:.4f},\\n Recall: {recall:.4f},\\n F1-Score: {f1:.4f}\")"
      ],
      "metadata": {
        "colab": {
          "base_uri": "https://localhost:8080/"
        },
        "id": "N-6nNtrF0W4U",
        "outputId": "04733373-7f62-4aff-de70-4198b3faf41b"
      },
      "execution_count": 67,
      "outputs": [
        {
          "output_type": "stream",
          "name": "stdout",
          "text": [
            "K-NearestNeighbors: \n",
            "\n",
            " Accuracy: 0.8875,\n",
            " Precision: 0.8857,\n",
            " Recall: 0.8611,\n",
            " F1-Score: 0.8732\n"
          ]
        }
      ]
    },
    {
      "cell_type": "markdown",
      "source": [
        "#Decision Tree"
      ],
      "metadata": {
        "id": "IY6z9wAd0bLd"
      }
    },
    {
      "cell_type": "code",
      "source": [
        "from sklearn.tree import DecisionTreeClassifier\n",
        "\n",
        "dt = DecisionTreeClassifier(random_state=42)\n",
        "dt.fit(X_train_scaled, y_train)\n",
        "y_pred_dt = dt.predict(X_test_scaled)\n",
        "\n",
        "# Metrics\n",
        "accuracy = accuracy_score(y_test, y_pred_dt)\n",
        "precision = precision_score(y_test, y_pred_dt)\n",
        "recall = recall_score(y_test, y_pred_dt)\n",
        "f1 = f1_score(y_test, y_pred_dt)\n",
        "\n",
        "print(\"Decision Tree: \\n\")\n",
        "print(f\" Accuracy: {accuracy:.4f},\\n Precision: {precision:.4f},\\n Recall: {recall:.4f},\\n F1-Score: {f1:.4f}\")"
      ],
      "metadata": {
        "colab": {
          "base_uri": "https://localhost:8080/"
        },
        "id": "GjYhq6Vp0ltn",
        "outputId": "c39356fa-093d-4c6d-cc45-16f731eb2e63"
      },
      "execution_count": 68,
      "outputs": [
        {
          "output_type": "stream",
          "name": "stdout",
          "text": [
            "Decision Tree: \n",
            "\n",
            " Accuracy: 0.8125,\n",
            " Precision: 0.8889,\n",
            " Recall: 0.6667,\n",
            " F1-Score: 0.7619\n"
          ]
        }
      ]
    },
    {
      "cell_type": "markdown",
      "source": [
        "#Support Vector Classifier"
      ],
      "metadata": {
        "id": "HAtlb2cq0u2X"
      }
    },
    {
      "cell_type": "code",
      "source": [
        "from sklearn.svm import SVC\n",
        "\n",
        "svc = SVC(random_state=42)\n",
        "svc.fit(X_train_scaled, y_train)\n",
        "y_pred_svc = svc.predict(X_test_scaled)\n",
        "\n",
        "# Metrics\n",
        "accuracy = accuracy_score(y_test, y_pred_svc)\n",
        "precision = precision_score(y_test, y_pred_svc)\n",
        "recall = recall_score(y_test, y_pred_svc)\n",
        "f1 = f1_score(y_test, y_pred_svc)\n",
        "\n",
        "print(\"Support Vector Classifier: \\n\")\n",
        "print(f\" Accuracy: {accuracy:.4f},\\n Precision: {precision:.4f},\\n Recall: {recall:.4f},\\n F1-Score: {f1:.4f}\")"
      ],
      "metadata": {
        "colab": {
          "base_uri": "https://localhost:8080/"
        },
        "id": "rueRNaQF0xV4",
        "outputId": "2216ce55-2b8b-432e-c575-34ade0dcd248"
      },
      "execution_count": 69,
      "outputs": [
        {
          "output_type": "stream",
          "name": "stdout",
          "text": [
            "Support Vector Classifier: \n",
            "\n",
            " Accuracy: 0.8625,\n",
            " Precision: 0.8788,\n",
            " Recall: 0.8056,\n",
            " F1-Score: 0.8406\n"
          ]
        }
      ]
    }
  ]
}